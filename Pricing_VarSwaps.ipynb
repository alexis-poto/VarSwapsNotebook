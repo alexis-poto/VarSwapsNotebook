{
 "cells": [
  {
   "cell_type": "markdown",
   "metadata": {},
   "source": [
    "##  <center>               *Pricing of VarSwaps Notebook* January 2023\n",
    "##  <center>             Alexis Pauthonier--Delpeu\n"
   ]
  },
  {
   "cell_type": "code",
   "execution_count": 5,
   "metadata": {},
   "outputs": [],
   "source": [
    "import numpy as np\n",
    "import pandas as pd\n",
    "from scipy import stats\n",
    "from matplotlib import pyplot as plt\n"
   ]
  },
  {
   "cell_type": "markdown",
   "metadata": {},
   "source": [
    "## 1 Generating a Volatility Surface, a prerequisite to price VarSwaps"
   ]
  },
  {
   "cell_type": "markdown",
   "metadata": {},
   "source": [
    "As Volatility surface is nevessary to price VarSwaps, but volatility modelling is not the purpose of this project, we generate the easiest possible volatility surface. For such purpose, we take a decreasing convex function that has a value of ATMVol when S=S0"
   ]
  },
  {
   "cell_type": "markdown",
   "metadata": {},
   "source": [
    "\\begin{align}\n",
    "    \\text{  Trivial volatility smile } \\\\[1em]\n",
    "    f(S) = \\frac{1}{S} \\cdot S_0 * ATMVol \n",
    "\\end{align}"
   ]
  },
  {
   "cell_type": "code",
   "execution_count": 6,
   "metadata": {},
   "outputs": [],
   "source": [
    "# 1 Y Volatility Surface\n",
    "\n",
    "def IV(spot, ATMVol, current_spot):\n",
    "    return 1/(spot*100) * ATMVol * current_spot"
   ]
  },
  {
   "cell_type": "code",
   "execution_count": 7,
   "metadata": {},
   "outputs": [],
   "source": [
    "#Params\n",
    "\n",
    "ATMVol = 14\n",
    "SX5E_spot = 4000\n",
    "spot_array = np.arange(2000,6500,50)\n",
    "strike_array = spot_array\n",
    "strike_array_percent = strike_array/SX5E_spot\n",
    "IV_array = IV(spot_array,ATMVol,SX5E_spot)\n",
    "T = 1"
   ]
  },
  {
   "cell_type": "code",
   "execution_count": 8,
   "metadata": {},
   "outputs": [
    {
     "data": {
      "image/png": "[encoded data removed]",
      "text/plain": [
       "<Figure size 1296x576 with 1 Axes>"
      ]
     },
     "metadata": {
      "needs_background": "light"
     },
     "output_type": "display_data"
    }
   ],
   "source": [
    "#Plot Volatility Surface\n",
    "plt.figure(figsize=(18,8))\n",
    "plt.plot(spot_array,IV_array)\n",
    "plt.title(\"Volatility Smile\")\n",
    "plt.show()\n"
   ]
  },
  {
   "cell_type": "markdown",
   "metadata": {},
   "source": [
    "# 2.1 VarSwap Payoff"
   ]
  },
  {
   "cell_type": "markdown",
   "metadata": {},
   "source": [
    "\\begin{align}\n",
    "     VarianceSwapPayoff_T = \\left[ RV - K_{var}^2\\right] \\cdot N_{var} \\\\[1em]\n",
    "\\end{align}"
   ]
  },
  {
   "cell_type": "markdown",
   "metadata": {},
   "source": [
    "\\begin{align}\n",
    "    \\text{where: } \\\\[1em]\n",
    "    RV = \\frac{252}{N_E} \\cdot \\sum_{t=1}^{N_A} \\ln^2{(\\frac{S_t}{S_{t-1}})}\n",
    "\\end{align}"
   ]
  },
  {
   "cell_type": "markdown",
   "metadata": {},
   "source": [
    "\\begin{align}\n",
    "     N_E & \\text{ is the number of estimated days in the period }\n",
    "\\end{align}"
   ]
  },
  {
   "cell_type": "markdown",
   "metadata": {},
   "source": [
    "\\begin{align}\n",
    "     N_A & \\text{ is the number of actual days in the period }\n",
    "\\end{align}"
   ]
  },
  {
   "cell_type": "markdown",
   "metadata": {},
   "source": [
    "\\begin{align}\n",
    "    N_{var} & \\text{ is the notionnal of the swap expressed in Var points}\n",
    "\\end{align}"
   ]
  },
  {
   "cell_type": "markdown",
   "metadata": {},
   "source": [
    "# 2.2 VarSwap Pricing"
   ]
  },
  {
   "cell_type": "markdown",
   "metadata": {},
   "source": [
    "The real advantage of using VarSwap as an instrument to trade volatility is that its pricing is model independant, as it can be replicated a static position in Calls and Puts can replicate the payoff.\n",
    "This formula (Carr-Madan 2002) can be written  :"
   ]
  },
  {
   "cell_type": "markdown",
   "metadata": {},
   "source": [
    "\\begin{align}\n",
    "     VarianceSwap_T = \\frac{2}{T} \\cdot \\left[ r \\cdot T -  \\mathrm{ln}({\\frac{F_T}{S_0}}) - (\\frac{S_0}{F_T} \\cdot \\mathrm{e}^{r\\cdot T} - 1) + \\mathrm{e}^{r\\cdot T} \\cdot (\\int_0^{F_T} Put(K,T) {\\frac{\\mathrm{d}K\n",
    "}{K^2}} + \\int_{F_T}^{\\infty} Call(K,T) {\\frac{\\mathrm{d}K\n",
    "}{K^2}} )\\right]\n",
    "\\end{align}"
   ]
  },
  {
   "cell_type": "markdown",
   "metadata": {},
   "source": [
    "Assuming r = 0, q = 0 and repo = 0 , we have : "
   ]
  },
  {
   "cell_type": "markdown",
   "metadata": {},
   "source": [
    "\\begin{align}\n",
    "     VarianceSwap_T = \\frac{2}{T} \\cdot \\left[ \\int_0^{S_0} Put(K,T) {\\frac{\\mathrm{d}K\n",
    "}{K^2}} + \\int_{S_0}^{\\infty} Call(K,T) {\\frac{\\mathrm{d}K\n",
    "}{K^2}} \\right]\n",
    "\\end{align}"
   ]
  },
  {
   "cell_type": "markdown",
   "metadata": {},
   "source": [
    "As Calls and Puts are traded for discretionary strikes, we can write :  "
   ]
  },
  {
   "cell_type": "markdown",
   "metadata": {},
   "source": [
    "\\begin{align}\n",
    "     VarianceSwap_T = \\frac{2}{T} \\cdot \\left[ \\sum_{i=1}^n \\frac{Put(K_i,T)\n",
    "}{K_i^2} \\cdot (K_i - K_{i-1}) + \\sum_{i=n}^N \\frac{Call(K_i,T)\n",
    "}{K_i^2} \\cdot (K_i - K_{i-1})\\right]\n",
    "\\end{align}"
   ]
  },
  {
   "cell_type": "markdown",
   "metadata": {},
   "source": [
    "    So that we can price the VarSwap, we will first need to price Calls and Puts for each strike."
   ]
  },
  {
   "cell_type": "code",
   "execution_count": 6,
   "metadata": {},
   "outputs": [],
   "source": [
    "def compute_d1(S,K,T,r,sigma):\n",
    "    return (np.log(S/K)+ (r+0.5*sigma**2)*T)/(sigma*np.sqrt(T))\n",
    "\n",
    "def compute_d2(S,K,T,r,sigma):\n",
    "    return (np.log(S/K)+ (r-0.5*sigma**2)*T)/(sigma*np.sqrt(T))\n",
    "\n",
    "def Put(S,K,T,r,d1,d2):\n",
    "    return (K*np.exp(-r*T)*stats.norm.cdf(-d2)-S*stats.norm.cdf(-d1))/S\n",
    "def Call(S,K,T,r,d1,d2):\n",
    "    return (S*stats.norm.cdf(d1) - K*np.exp(-r*T)*stats.norm.cdf(d2))/S "
   ]
  },
  {
   "cell_type": "code",
   "execution_count": 7,
   "metadata": {},
   "outputs": [],
   "source": [
    "d1_array= compute_d1(SX5E_spot,strike_array, T, 0, IV_array)\n",
    "d2_array= compute_d2(SX5E_spot,strike_array, T, 0, IV_array)\n",
    "put_array = Put(SX5E_spot,strike_array, T, 0,d1_array,d2_array)\n",
    "call_array = Call(SX5E_spot,strike_array, T, 0,d1_array,d2_array)\n",
    "df=pd.DataFrame()"
   ]
  },
  {
   "cell_type": "markdown",
   "metadata": {},
   "source": [
    "Now let's compute the weights, and display everything in a DataFrame"
   ]
  },
  {
   "cell_type": "code",
   "execution_count": 8,
   "metadata": {},
   "outputs": [],
   "source": [
    "df['weight'] = 0.0125/(strike_array_percent)**2\n",
    "df['strike'] = strike_array\n",
    "df['Call/Put'] = np.where(df['strike'] > SX5E_spot, 'C', 'P')\n",
    "df['IV'] = IV_array\n",
    "#df[(df['Call/Put'] == 'C')]['Price (%Notional)'] = call_array\n",
    "df['Price (%Notional)'] = np.where(df['Call/Put'] == 'C',call_array,put_array)"
   ]
  },
  {
   "cell_type": "code",
   "execution_count": 9,
   "metadata": {},
   "outputs": [
    {
     "data": {
      "text/html": [
       "<div>\n",
       "<style scoped>\n",
       "    .dataframe tbody tr th:only-of-type {\n",
       "        vertical-align: middle;\n",
       "    }\n",
       "\n",
       "    .dataframe tbody tr th {\n",
       "        vertical-align: top;\n",
       "    }\n",
       "\n",
       "    .dataframe thead th {\n",
       "        text-align: right;\n",
       "    }\n",
       "</style>\n",
       "<table border=\"1\" class=\"dataframe\">\n",
       "  <thead>\n",
       "    <tr style=\"text-align: right;\">\n",
       "      <th></th>\n",
       "      <th>weight</th>\n",
       "      <th>strike</th>\n",
       "      <th>Call/Put</th>\n",
       "      <th>IV</th>\n",
       "      <th>Price (%Notional)</th>\n",
       "    </tr>\n",
       "  </thead>\n",
       "  <tbody>\n",
       "    <tr>\n",
       "      <th>0</th>\n",
       "      <td>0.050000</td>\n",
       "      <td>2000</td>\n",
       "      <td>P</td>\n",
       "      <td>0.280000</td>\n",
       "      <td>4.244829e-04</td>\n",
       "    </tr>\n",
       "    <tr>\n",
       "      <th>1</th>\n",
       "      <td>0.047591</td>\n",
       "      <td>2050</td>\n",
       "      <td>P</td>\n",
       "      <td>0.273171</td>\n",
       "      <td>4.577467e-04</td>\n",
       "    </tr>\n",
       "    <tr>\n",
       "      <th>2</th>\n",
       "      <td>0.045351</td>\n",
       "      <td>2100</td>\n",
       "      <td>P</td>\n",
       "      <td>0.266667</td>\n",
       "      <td>4.966738e-04</td>\n",
       "    </tr>\n",
       "    <tr>\n",
       "      <th>3</th>\n",
       "      <td>0.043267</td>\n",
       "      <td>2150</td>\n",
       "      <td>P</td>\n",
       "      <td>0.260465</td>\n",
       "      <td>5.420665e-04</td>\n",
       "    </tr>\n",
       "    <tr>\n",
       "      <th>4</th>\n",
       "      <td>0.041322</td>\n",
       "      <td>2200</td>\n",
       "      <td>P</td>\n",
       "      <td>0.254545</td>\n",
       "      <td>5.948734e-04</td>\n",
       "    </tr>\n",
       "    <tr>\n",
       "      <th>...</th>\n",
       "      <td>...</td>\n",
       "      <td>...</td>\n",
       "      <td>...</td>\n",
       "      <td>...</td>\n",
       "      <td>...</td>\n",
       "    </tr>\n",
       "    <tr>\n",
       "      <th>85</th>\n",
       "      <td>0.005120</td>\n",
       "      <td>6250</td>\n",
       "      <td>C</td>\n",
       "      <td>0.089600</td>\n",
       "      <td>6.626654e-09</td>\n",
       "    </tr>\n",
       "    <tr>\n",
       "      <th>86</th>\n",
       "      <td>0.005039</td>\n",
       "      <td>6300</td>\n",
       "      <td>C</td>\n",
       "      <td>0.088889</td>\n",
       "      <td>3.278134e-09</td>\n",
       "    </tr>\n",
       "    <tr>\n",
       "      <th>87</th>\n",
       "      <td>0.004960</td>\n",
       "      <td>6350</td>\n",
       "      <td>C</td>\n",
       "      <td>0.088189</td>\n",
       "      <td>1.589987e-09</td>\n",
       "    </tr>\n",
       "    <tr>\n",
       "      <th>88</th>\n",
       "      <td>0.004883</td>\n",
       "      <td>6400</td>\n",
       "      <td>C</td>\n",
       "      <td>0.087500</td>\n",
       "      <td>7.559254e-10</td>\n",
       "    </tr>\n",
       "    <tr>\n",
       "      <th>89</th>\n",
       "      <td>0.004807</td>\n",
       "      <td>6450</td>\n",
       "      <td>C</td>\n",
       "      <td>0.086822</td>\n",
       "      <td>3.521821e-10</td>\n",
       "    </tr>\n",
       "  </tbody>\n",
       "</table>\n",
       "<p>90 rows × 5 columns</p>\n",
       "</div>"
      ],
      "text/plain": [
       "      weight  strike Call/Put        IV  Price (%Notional)\n",
       "0   0.050000    2000        P  0.280000       4.244829e-04\n",
       "1   0.047591    2050        P  0.273171       4.577467e-04\n",
       "2   0.045351    2100        P  0.266667       4.966738e-04\n",
       "3   0.043267    2150        P  0.260465       5.420665e-04\n",
       "4   0.041322    2200        P  0.254545       5.948734e-04\n",
       "..       ...     ...      ...       ...                ...\n",
       "85  0.005120    6250        C  0.089600       6.626654e-09\n",
       "86  0.005039    6300        C  0.088889       3.278134e-09\n",
       "87  0.004960    6350        C  0.088189       1.589987e-09\n",
       "88  0.004883    6400        C  0.087500       7.559254e-10\n",
       "89  0.004807    6450        C  0.086822       3.521821e-10\n",
       "\n",
       "[90 rows x 5 columns]"
      ]
     },
     "execution_count": 9,
     "metadata": {},
     "output_type": "execute_result"
    }
   ],
   "source": [
    "df"
   ]
  },
  {
   "cell_type": "markdown",
   "metadata": {},
   "source": [
    "The Sumproduct of Weight times Price gives us the following fairstrike, respectively in VarPoints and in VolPoints"
   ]
  },
  {
   "cell_type": "code",
   "execution_count": 183,
   "metadata": {},
   "outputs": [
    {
     "name": "stdout",
     "output_type": "stream",
     "text": [
      "FairStrike in Var Points =  223.6117\n",
      "FairStrike in Vol Points =  14.95\n"
     ]
    }
   ],
   "source": [
    "FairStrikeinVarPoints = np.round( 2/T*np.sum(df['weight']*df['Price (%Notional)']) * 10000,4)\n",
    "FairStrikeinVolPoints = np.round(np.sqrt(FairStrikeinVarPoints),2)\n",
    "\n",
    "print( \"FairStrike in Var Points = \", FairStrikeinVarPoints)\n",
    "print( \"FairStrike in Vol Points = \", FairStrikeinVolPoints)"
   ]
  },
  {
   "cell_type": "markdown",
   "metadata": {},
   "source": [
    "# References"
   ]
  },
  {
   "cell_type": "markdown",
   "metadata": {},
   "source": [
    "- Bossu, S., Strasser, E. and Guichard, R. (2005) Just What you Need to Know About Variance Swaps. Equity Derivatives Group, JP Morgan Securities Ltd.\n",
    "- Bouzoubaa,M., Osserian, A. (2010) Exotic Options and Hybrids : A Guide to Structuring, Pricing and Trading\n",
    "- Carr, P. and Madan, D. (1998) Towards a theory of volatility trading. In R. Jarrow (ed.), Volatility (pp. 417–427). Risk Publications.\n"
   ]
  }
 ],
 "metadata": {
  "kernelspec": {
   "display_name": "Python 3",
   "language": "python",
   "name": "python3"
  },
  "language_info": {
   "codemirror_mode": {
    "name": "ipython",
    "version": 3
   },
   "file_extension": ".py",
   "mimetype": "text/x-python",
   "name": "python",
   "nbconvert_exporter": "python",
   "pygments_lexer": "ipython3",
   "version": "3.7.6"
  }
 },
 "nbformat": 4,
 "nbformat_minor": 4
}
